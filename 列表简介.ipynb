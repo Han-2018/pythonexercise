{
 "cells": [
  {
   "cell_type": "code",
   "execution_count": 3,
   "metadata": {},
   "outputs": [
    {
     "name": "stdout",
     "output_type": "stream",
     "text": [
      "Li Xi Le \n",
      "Ldi\n",
      "LI XI LE \n",
      "LDI\n",
      "li xi le \n",
      "ldi\n"
     ]
    }
   ],
   "source": [
    "name =  'li xi le \\nldi'\n",
    "print (name.title())\n",
    "print (name.upper())\n",
    "print (name.lower())"
   ]
  },
  {
   "cell_type": "code",
   "execution_count": 5,
   "metadata": {},
   "outputs": [
    {
     "name": "stdout",
     "output_type": "stream",
     "text": [
      "lixi xingio\n"
     ]
    }
   ],
   "source": [
    "first_name='lixi'\n",
    "last_name='xingio'\n",
    "full_name=first_name+ ' '+last_name\n",
    "print(full_name)"
   ]
  },
  {
   "cell_type": "code",
   "execution_count": 8,
   "metadata": {},
   "outputs": [
    {
     "data": {
      "text/plain": [
       "'djif'"
      ]
     },
     "execution_count": 8,
     "metadata": {},
     "output_type": "execute_result"
    }
   ],
   "source": [
    "name='djif  '\n",
    "name\n",
    "name.rstrip()"
   ]
  },
  {
   "cell_type": "code",
   "execution_count": 13,
   "metadata": {},
   "outputs": [
    {
     "data": {
      "text/plain": [
       "'jdifjelf'"
      ]
     },
     "execution_count": 13,
     "metadata": {},
     "output_type": "execute_result"
    }
   ],
   "source": [
    "l=''' jdifjelf  '''\n",
    "l_1=l.lstrip().rstrip()\n",
    "l_1"
   ]
  },
  {
   "cell_type": "code",
   "execution_count": 16,
   "metadata": {},
   "outputs": [
    {
     "name": "stdout",
     "output_type": "stream",
     "text": [
      "djfi' \\jdis dskfjie\n"
     ]
    }
   ],
   "source": [
    "name='djfi\\' \\\\jdis dskfjie'\n",
    "print(name)"
   ]
  },
  {
   "cell_type": "code",
   "execution_count": 17,
   "metadata": {},
   "outputs": [
    {
     "name": "stdout",
     "output_type": "stream",
     "text": [
      "i am12 years old,yes i am 12 years old ,and i am liming\n"
     ]
    }
   ],
   "source": [
    "s='i am{0} years old,yes i am {0} years old ,and i am {1}'.format(12,'liming')\n",
    "print(s)"
   ]
  },
  {
   "cell_type": "code",
   "execution_count": 19,
   "metadata": {},
   "outputs": [],
   "source": [
    "import this"
   ]
  },
  {
   "cell_type": "code",
   "execution_count": 29,
   "metadata": {},
   "outputs": [
    {
     "name": "stdout",
     "output_type": "stream",
     "text": [
      "['jieante', 'meilida', 'fenghuang']\n",
      "MEILIDA\n",
      "Fenghuang\n",
      "My first bicycle is Meilida.\n"
     ]
    }
   ],
   "source": [
    "lists=['jieante','meilida','fenghuang']\n",
    "print(lists)\n",
    "print(lists[1].upper())\n",
    "print(lists[-1].title())\n",
    "message='My first bicycle is '+ lists[1].title() +'.'\n",
    "print(message)"
   ]
  },
  {
   "cell_type": "code",
   "execution_count": 36,
   "metadata": {},
   "outputs": [
    {
     "name": "stdout",
     "output_type": "stream",
     "text": [
      "['xiaobaige', 'meilida', 'fenghuang', 'yongjiu', 'yongjiu', 'yongjiu', 'yongjiu']\n",
      "['xiaobaige', 'meilida', 'fenghuang', 'yongjiu', 'yongjiu', 'yongjiu', 'yongjiu', 'yongjiu']\n",
      "['xiaobaige', 'meilida', 'fenghuang', 'yongjiu', 'yongjiu', 'yongjiu', 'yongjiu', 'yongjiu']\n",
      "['xiaobaige', 'fenghuang', 'yongjiu', 'yongjiu', 'yongjiu', 'yongjiu', 'yongjiu']\n"
     ]
    }
   ],
   "source": [
    "# 修改列表元素\n",
    "lists[0]='xiaobaige'\n",
    "print(lists)\n",
    "lists.append('yongjiu')\n",
    "print(lists)\n",
    "# lists.insert(1,'shandian')\n",
    "print(lists)\n",
    "del lists[1] #del 语句是中括号\n",
    "print(lists)"
   ]
  },
  {
   "cell_type": "code",
   "execution_count": 41,
   "metadata": {},
   "outputs": [
    {
     "name": "stdout",
     "output_type": "stream",
     "text": [
      "['li', 'zhang', 'han']\n",
      "['li', 'zhang']\n",
      "liu\n"
     ]
    }
   ],
   "source": [
    "name=['li','liu','zhang','han']\n",
    "popped_name=name.pop(1)\n",
    "print(name)\n",
    "name.remove('han')\n",
    "print(name)\n",
    "print(popped_name)\n",
    "# 列表语句\n",
    "# append 在列表尾部增加内容；insert 任意位置增加内容 ；del 删除列表内容，此内容以后便无法使用；pop 删除内容，还可以\n",
    "#调用删除的内容；remove"
   ]
  },
  {
   "cell_type": "code",
   "execution_count": 51,
   "metadata": {},
   "outputs": [
    {
     "name": "stdout",
     "output_type": "stream",
     "text": [
      "['a', 'd', 'e', 'y']\n",
      "['啊', '才', '的']\n",
      "['的', '才', '啊']\n"
     ]
    }
   ],
   "source": [
    "letters=['d','e','a','y']\n",
    "letters.sort()  #sort an字母顺序排列\n",
    "names=['才','的','啊']\n",
    "names.sort(reverse=True)\n",
    "print(letters)\n",
    "print(sorted(names))\n",
    "print(names)"
   ]
  },
  {
   "cell_type": "code",
   "execution_count": 68,
   "metadata": {},
   "outputs": [
    {
     "name": "stdout",
     "output_type": "stream",
     "text": [
      "['y', 'e', 'd', 'a']\n",
      "['d', 'e', 'a', 'y']\n"
     ]
    }
   ],
   "source": [
    "lets=['d','e','a','y']\n",
    "le=sorted(lets)\n",
    "le.sort(reverse=True)\n",
    "print(le)\n",
    "#lets.sort(reverse=True)\n",
    "print(lets)"
   ]
  }
 ],
 "metadata": {
  "kernelspec": {
   "display_name": "Python 3",
   "language": "python",
   "name": "python3"
  },
  "language_info": {
   "codemirror_mode": {
    "name": "ipython",
    "version": 3
   },
   "file_extension": ".py",
   "mimetype": "text/x-python",
   "name": "python",
   "nbconvert_exporter": "python",
   "pygments_lexer": "ipython3",
   "version": "3.6.5"
  }
 },
 "nbformat": 4,
 "nbformat_minor": 2
}
