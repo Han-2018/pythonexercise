{
 "cells": [
  {
   "cell_type": "code",
   "execution_count": 4,
   "metadata": {},
   "outputs": [
    {
     "name": "stdout",
     "output_type": "stream",
     "text": [
      "green\n",
      "5\n"
     ]
    }
   ],
   "source": [
    "alien_0 = {'color': 'green', 'point': '5'}\n",
    "print(alien_0['color'])\n",
    "print(alien_0['point'])"
   ]
  },
  {
   "cell_type": "markdown",
   "metadata": {},
   "source": [
    "## 使用字典\n",
    "    - 在Python中，字典是一系列键-值对。每个键都与一个值相关联，你可以使用键来访问与之相关联的值。于键相关联的值可以是数字、字符串、列表乃至字典。\n",
    "    -字典用放在花括号{}中的一系列键-值对表示。\n",
    "## 访问字典中的值\n",
    "    - 要获取于键相关联的值，可依次指定字典名和放在方括号内的键"
   ]
  },
  {
   "cell_type": "code",
   "execution_count": 7,
   "metadata": {},
   "outputs": [
    {
     "name": "stdout",
     "output_type": "stream",
     "text": [
      "you just earned 5 point\n"
     ]
    }
   ],
   "source": [
    "alien_0 = {'color': 'green','point': '5'}\n",
    "new_point=alien_0['point']\n",
    "print('you just earned '+str(new_point)+' point')"
   ]
  },
  {
   "cell_type": "markdown",
   "metadata": {},
   "source": [
    "## 添加键-值对"
   ]
  },
  {
   "cell_type": "code",
   "execution_count": 9,
   "metadata": {},
   "outputs": [
    {
     "name": "stdout",
     "output_type": "stream",
     "text": [
      "{'color': 'green', 'point': '5', 'x_point': 0, 'y_point': 20}\n"
     ]
    }
   ],
   "source": [
    "alien_0 = {'color': 'green','point': '5'}\n",
    "alien_0['x_point']=0\n",
    "alien_0['y_point']=20\n",
    "print(alien_0)"
   ]
  },
  {
   "cell_type": "markdown",
   "metadata": {},
   "source": [
    "## 修改字典中的值"
   ]
  },
  {
   "cell_type": "code",
   "execution_count": 12,
   "metadata": {},
   "outputs": [
    {
     "name": "stdout",
     "output_type": "stream",
     "text": [
      "yellow\n"
     ]
    }
   ],
   "source": [
    "alien_0 = {'color': 'green'}\n",
    "alien_0['color']='yellow'\n",
    "print(alien_0['color'])"
   ]
  },
  {
   "cell_type": "code",
   "execution_count": 15,
   "metadata": {},
   "outputs": [
    {
     "name": "stdout",
     "output_type": "stream",
     "text": [
      "Original x-position: 0\n",
      "New x_positon: 2\n"
     ]
    }
   ],
   "source": [
    "alien_0={'x_point': 0, 'y_point': 25, 'speed': 'medium'}\n",
    "print(\"Original x-position: \" + str(alien_0['x_point']))\n",
    "# 向右移动外星人\n",
    "# 据外星人当前速度决定将其移动多远\n",
    "# alien_0['speed'] = 'fast'\n",
    "if alien_0['speed'] == 'slow':\n",
    "    x_increment = 1\n",
    "elif alien_0['speed'] == 'medium':\n",
    "    x_increment = 2\n",
    "else:\n",
    "    #这个外星人的速度一定很快\n",
    "    x_increment = 3\n",
    "alien_0['x_point'] = alien_0['x_point'] + x_increment\n",
    "print(\"New x_positon: \" + str(alien_0['x_point']))"
   ]
  },
  {
   "cell_type": "markdown",
   "metadata": {},
   "source": [
    "## 删除键-值对\n",
    "    - 对于字典中不再需要的信息，可使用del语句将相应的键-值对彻底删除。使用del语句时，必须指定字典名和要删除的键"
   ]
  },
  {
   "cell_type": "code",
   "execution_count": 17,
   "metadata": {
    "scrolled": true
   },
   "outputs": [
    {
     "name": "stdout",
     "output_type": "stream",
     "text": [
      "{'color': 'green'}\n"
     ]
    }
   ],
   "source": [
    "alien_0 = {'color': 'green', 'point': 5}\n",
    "del alien_0['point']\n",
    "print(alien_0)"
   ]
  },
  {
   "cell_type": "markdown",
   "metadata": {},
   "source": [
    "## 由类似对象组成的字典\n",
    "    - 可以使用字典来存储众多对象的同一种信息。\n",
    "    "
   ]
  },
  {
   "cell_type": "code",
   "execution_count": 34,
   "metadata": {
    "scrolled": true
   },
   "outputs": [
    {
     "name": "stdout",
     "output_type": "stream",
     "text": [
      "jen's favorite language is Python.\n"
     ]
    }
   ],
   "source": [
    "favorite_languages = {\n",
    "    'jen': 'python',\n",
    "    'pil': 'c++',\n",
    "    'han': 'php',\n",
    "    }\n",
    "print(\"jen's favorite language is \" + \n",
    "     favorite_languages['jen'].title() + \n",
    "     '.')"
   ]
  },
  {
   "cell_type": "markdown",
   "metadata": {},
   "source": [
    "## 遍历字典\n",
    "    - 可遍历字典的所有键-值对，键或值\n",
    "        "
   ]
  },
  {
   "cell_type": "markdown",
   "metadata": {},
   "source": [
    "### 遍历所有的键-值对"
   ]
  },
  {
   "cell_type": "code",
   "execution_count": 43,
   "metadata": {},
   "outputs": [
    {
     "name": "stdout",
     "output_type": "stream",
     "text": [
      "key: username\n",
      "value: efermi\n",
      "\n",
      "key: first\n",
      "value: enrico\n",
      "\n",
      "key: last\n",
      "value: fermi\n",
      "\n"
     ]
    }
   ],
   "source": [
    "user_0 = {\n",
    "    'username': 'efermi',\n",
    "    'first': 'enrico',\n",
    "    'last': 'fermi',\n",
    "    }\n",
    "for key, value in user_0.items():\n",
    "    print(\"key: \" + key)\n",
    "    print(\"value: \" + value + '\\n')"
   ]
  },
  {
   "cell_type": "markdown",
   "metadata": {},
   "source": [
    "### 遍历字典中的所有键\n",
    "    - 不需要使用字典中的值时，方法keys()很有用"
   ]
  },
  {
   "cell_type": "code",
   "execution_count": 44,
   "metadata": {},
   "outputs": [
    {
     "name": "stdout",
     "output_type": "stream",
     "text": [
      "jen\n",
      "sarah\n",
      "edward\n",
      "phil\n"
     ]
    }
   ],
   "source": [
    "favorite_languages = {\n",
    "    'jen': 'python',\n",
    "    'sarah': 'c',\n",
    "    'edward': 'ruby',\n",
    "    'phil': 'python',\n",
    "    }\n",
    "for name in favorite_languages.keys():\n",
    "    print(name)"
   ]
  },
  {
   "cell_type": "markdown",
   "metadata": {
    "collapsed": true
   },
   "source": [
    "### 按顺序遍历字典中的所有键\n",
    "    - 获取字典的元素时，获取顺序是不可预测的。要以特定的顺序返回元素，一种办法是在for循环中对返回的键进行排序，为此可使用函数sorted()来获得按特定顺序排列的键列表的副本"
   ]
  },
  {
   "cell_type": "code",
   "execution_count": 2,
   "metadata": {},
   "outputs": [
    {
     "name": "stdout",
     "output_type": "stream",
     "text": [
      "Edward,thank you for taking the poll\n",
      "Jen,thank you for taking the poll\n",
      "Phil,thank you for taking the poll\n",
      "Sarah,thank you for taking the poll\n"
     ]
    }
   ],
   "source": [
    "favorite_languages = {\n",
    "    'jen': 'python',\n",
    "    'sarah': 'c',\n",
    "    'edward': 'ruby',\n",
    "    'phil': 'python',\n",
    "    }\n",
    "for name in sorted(favorite_languages):\n",
    "    print(name.title() + \",thank you for taking the poll\")"
   ]
  },
  {
   "cell_type": "markdown",
   "metadata": {},
   "source": [
    "### 遍历字典中的所有值\n",
    "    - 可使用方法values()，它返回一个值列表，而不包含任何键"
   ]
  },
  {
   "cell_type": "code",
   "execution_count": 11,
   "metadata": {},
   "outputs": [
    {
     "name": "stdout",
     "output_type": "stream",
     "text": [
      "C\n",
      "Python\n",
      "Ruby\n"
     ]
    }
   ],
   "source": [
    "favorite_languages = {\n",
    "    'jen': 'python',\n",
    "    'sarah': 'c',\n",
    "    'edward': 'ruby',\n",
    "    'phil': 'python',\n",
    "    }\n",
    "#for language in favorite_languages.values(): \n",
    "    #print(language.title())\n",
    "for language in sorted(set(favorite_languages.values())): #列表可能包含大量重复项，为剔除重复项，可使用集合（set）\n",
    "    # 集合类似于列表，但每个元素都必须独一无二\n",
    "    print(language.title())"
   ]
  },
  {
   "cell_type": "markdown",
   "metadata": {},
   "source": [
    "## 嵌套\n",
    "    - 有时候需要将一系列字典存储在列表中，或将列表作为值存储在字典中，这称为嵌套\n",
    "    - 可以在列表中嵌套字典、在字典中嵌套列表甚至在字典中嵌套字典\n",
    "### 字典列表"
   ]
  },
  {
   "cell_type": "code",
   "execution_count": 13,
   "metadata": {},
   "outputs": [
    {
     "name": "stdout",
     "output_type": "stream",
     "text": [
      "{'color': 'green', 'point': '5'}\n",
      "{'color': 'yellow', 'point': '10'}\n",
      "{'color': 'blue', 'point': '15'}\n"
     ]
    }
   ],
   "source": [
    "alien_0 = {'color': 'green', 'point': '5'}\n",
    "alien_1 = {'color': 'yellow', 'point': '10'}\n",
    "alien_2 = {'color': 'blue', 'point': '15'}\n",
    "aliens = [alien_0, alien_1, alien_2]\n",
    "for alien in aliens:\n",
    "    print(alien)"
   ]
  },
  {
   "cell_type": "code",
   "execution_count": 19,
   "metadata": {},
   "outputs": [
    {
     "name": "stdout",
     "output_type": "stream",
     "text": [
      "{'color': 'green', 'point': 5, 'speed': 'slow'}\n",
      "{'color': 'green', 'point': 5, 'speed': 'slow'}\n",
      "{'color': 'green', 'point': 5, 'speed': 'slow'}\n",
      "{'color': 'green', 'point': 5, 'speed': 'slow'}\n",
      "{'color': 'green', 'point': 5, 'speed': 'slow'}\n",
      "...\n",
      "Total number of aliens: 30\n",
      "{'color': 'yellow', 'point': '10', 'speed': 'medium'}\n",
      "{'color': 'yellow', 'point': '10', 'speed': 'medium'}\n",
      "{'color': 'yellow', 'point': '10', 'speed': 'medium'}\n"
     ]
    }
   ],
   "source": [
    "# 创建一个用于存储外星人的空列表\n",
    "aliens = []\n",
    "\n",
    "#创建30个绿色的外星人\n",
    "for alien_number in range(30):\n",
    "    new_alien = {'color': 'green', 'point': 5, 'speed': 'slow'}\n",
    "    aliens.append(new_alien)\n",
    "\n",
    "# 显示前5个外星人\n",
    "for alien in aliens[:5]:\n",
    "    print(alien)\n",
    "print(\"...\")\n",
    "\n",
    "# 显示创建了多少个外星人\n",
    "print(\"Total number of aliens: \" + str(len(aliens)))\n",
    "\n",
    "for alien in aliens[0:3]:\n",
    "    if alien['color'] == 'green':\n",
    "        alien['color'] = 'yellow'\n",
    "        alien['speed'] = 'medium'\n",
    "        alien['point'] = '10'\n",
    "        print(alien)\n"
   ]
  },
  {
   "cell_type": "markdown",
   "metadata": {},
   "source": [
    "### 在字典中存储列表"
   ]
  },
  {
   "cell_type": "code",
   "execution_count": 21,
   "metadata": {
    "scrolled": true
   },
   "outputs": [
    {
     "name": "stdout",
     "output_type": "stream",
     "text": [
      "You ordered a thick-crust pizzawith the following toppings:\n",
      "\tmushrooms\n",
      "\textra cheese\n"
     ]
    }
   ],
   "source": [
    "# 存储所点披萨的信息\n",
    "pizza = {\n",
    "    'crust': 'thick',\n",
    "    'toppings': ['mushrooms', 'extra cheese'],\n",
    "    }\n",
    "\n",
    "# 概述所点的披萨\n",
    "print(\"You ordered a \" + pizza['crust'] + '-crust pizza' +\n",
    "     \"with the following toppings:\")\n",
    "\n",
    "for topping in pizza['toppings']:\n",
    "    print(\"\\t\" + topping)"
   ]
  },
  {
   "cell_type": "code",
   "execution_count": 53,
   "metadata": {},
   "outputs": [
    {
     "name": "stdout",
     "output_type": "stream",
     "text": [
      "\n",
      "Jen's favorite language are:\n",
      "\tpython\n",
      "\tc++\n",
      "\n",
      "Sarah's favorite language is:\n",
      "\tc\n",
      "\n",
      "Edward's favorite language are:\n",
      "\truby\n",
      "\tgo\n",
      "\n",
      "Phil's favorite language are:\n",
      "\tpython\n",
      "\thaskell\n"
     ]
    }
   ],
   "source": [
    "favorite_languages = {\n",
    "    'jen': ['python', 'c++'],\n",
    "    'sarah': ['c'],\n",
    "    'edward': ['ruby', 'go'],\n",
    "    'phil': ['python', 'haskell'],\n",
    "    }\n",
    "for name, languages in favorite_languages.items():\n",
    "    if len(languages) == 1:\n",
    "        #for language in languages:\n",
    "        print( \"\\n\" + name.title() + \"'s favorite language is:\\n\" + \"\\t\" + languages[0])# !!!!!!!!!!!!\n",
    "    elif len(languages) != 1:\n",
    "        print( \"\\n\" + name.title() + \"'s favorite language are:\" )\n",
    "        for language in languages:\n",
    "            print(\"\\t\" + language)\n"
   ]
  },
  {
   "cell_type": "markdown",
   "metadata": {},
   "source": [
    "### 在字典中存储字典"
   ]
  },
  {
   "cell_type": "code",
   "execution_count": 52,
   "metadata": {},
   "outputs": [
    {
     "name": "stdout",
     "output_type": "stream",
     "text": [
      "\n",
      "Username: aeinstein\n",
      "\tFull name: Albert Einstein\n",
      "\tLocation: Princeton\n",
      "\n",
      "Username: mcurie\n",
      "\tFull name: Marie Curie\n",
      "\tLocation: Paris\n"
     ]
    }
   ],
   "source": [
    "users = {\n",
    "    'aeinstein': {\n",
    "        'first': 'albert',\n",
    "        'last': 'einstein',\n",
    "        'location': 'princeton',\n",
    "        },\n",
    "    'mcurie': {\n",
    "        'first': 'marie',\n",
    "        'last': 'curie',\n",
    "        'location': 'paris',\n",
    "        }\n",
    "    }\n",
    "for username,user_info in users.items():\n",
    "    print(\"\\nUsername: \" + username)\n",
    "    full_name = user_info['first'] + \" \" + user_info['last']\n",
    "    location = user_info['location']\n",
    "    \n",
    "    print(\"\\tFull name: \" + full_name.title())\n",
    "    print(\"\\tLocation: \" + location.title())"
   ]
  }
 ],
 "metadata": {
  "kernelspec": {
   "display_name": "Python 3",
   "language": "python",
   "name": "python3"
  },
  "language_info": {
   "codemirror_mode": {
    "name": "ipython",
    "version": 3
   },
   "file_extension": ".py",
   "mimetype": "text/x-python",
   "name": "python",
   "nbconvert_exporter": "python",
   "pygments_lexer": "ipython3",
   "version": "3.6.5"
  }
 },
 "nbformat": 4,
 "nbformat_minor": 2
}
