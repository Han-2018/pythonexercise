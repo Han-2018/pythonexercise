{
 "cells": [
  {
   "cell_type": "code",
   "execution_count": 1,
   "metadata": {
    "scrolled": true
   },
   "outputs": [
    {
     "name": "stdout",
     "output_type": "stream",
     "text": [
      "han\n",
      "Han,is a good name\n",
      "liu\n",
      "Liu,is a good name\n",
      "zhang\n",
      "Zhang,is a good name\n",
      "wang\n",
      "Wang,is a good name\n",
      "thank you\n"
     ]
    }
   ],
   "source": [
    "names=['han','liu','zhang','wang']\n",
    "for name in names: #冒号，for循环的内容需要缩进，不是循环的内容，不需缩进\n",
    "    print(name)\n",
    "    print(name.title()+',is a good name')\n",
    "print('thank you')"
   ]
  },
  {
   "cell_type": "markdown",
   "metadata": {},
   "source": []
  },
  {
   "cell_type": "code",
   "execution_count": 1,
   "metadata": {},
   "outputs": [
    {
     "name": "stdout",
     "output_type": "stream",
     "text": [
      "2\n",
      "3\n",
      "4\n",
      "5\n",
      "6\n"
     ]
    }
   ],
   "source": [
    "for value in range(2,7):\n",
    "    print(value)"
   ]
  },
  {
   "cell_type": "code",
   "execution_count": 3,
   "metadata": {},
   "outputs": [
    {
     "name": "stdout",
     "output_type": "stream",
     "text": [
      "[3, 4, 5]\n"
     ]
    }
   ],
   "source": [
    "numbers=list(range(3,6))#使用list函数创建数字列表\n",
    "print(numbers)"
   ]
  },
  {
   "cell_type": "code",
   "execution_count": 5,
   "metadata": {},
   "outputs": [
    {
     "name": "stdout",
     "output_type": "stream",
     "text": [
      "[2, 5, 8, 11, 14]\n"
     ]
    }
   ],
   "source": [
    "even_numbers=list(range(2,16,3))\n",
    "print(even_numbers)"
   ]
  },
  {
   "cell_type": "code",
   "execution_count": 8,
   "metadata": {},
   "outputs": [
    {
     "name": "stdout",
     "output_type": "stream",
     "text": [
      "[4, 9, 16, 25, 36, 49, 64, 81, 100]\n"
     ]
    }
   ],
   "source": [
    "squares=[]\n",
    "for value in range(2,11):\n",
    "    squares.append(value*value)\n",
    "print(squares)"
   ]
  },
  {
   "cell_type": "code",
   "execution_count": 12,
   "metadata": {},
   "outputs": [
    {
     "name": "stdout",
     "output_type": "stream",
     "text": [
      "1\n",
      "45\n",
      "107\n"
     ]
    }
   ],
   "source": [
    "# 最大值，最小值，总和的函数\n",
    "digits=[1,2,4,5,9,7,11,23,45]\n",
    "print(min(digits))\n",
    "print(max(digits))\n",
    "print(sum(digits))"
   ]
  },
  {
   "cell_type": "code",
   "execution_count": 2,
   "metadata": {},
   "outputs": [
    {
     "name": "stdout",
     "output_type": "stream",
     "text": [
      "[1, 4, 9, 16, 25]\n"
     ]
    }
   ],
   "source": [
    "#列表解析\n",
    "sus=[value**2 for value in range(1,6)]\n",
    "print(sus)"
   ]
  },
  {
   "cell_type": "markdown",
   "metadata": {},
   "source": [
    "## 使用列表的一部分\n",
    "### 切片\n",
    "    -处理列表的部分元素"
   ]
  },
  {
   "cell_type": "code",
   "execution_count": 8,
   "metadata": {},
   "outputs": [
    {
     "name": "stdout",
     "output_type": "stream",
     "text": [
      "['chalis', 'jack', 'eli']\n",
      "['eli', 'nacy', 'cash']\n",
      "['chalis', 'jack', 'eli', 'nacy']\n",
      "['nacy', 'cash']\n",
      "['eli', 'nacy', 'cash']\n"
     ]
    }
   ],
   "source": [
    "plays=['chalis','jack','eli','nacy','cash']\n",
    "print(plays[0:3])\n",
    "print(plays[2:5])\n",
    "print(plays[:4])   #若没有指定第一个索引，Python将从列表开头开始\n",
    "print(plays[3:])   #终止于列表结尾\n",
    "print(plays[-3:])"
   ]
  },
  {
   "cell_type": "markdown",
   "metadata": {},
   "source": [
    "## 遍历切片\n",
    "    -要遍历列表的部分元素，可在for循环中使用切片"
   ]
  },
  {
   "cell_type": "code",
   "execution_count": 10,
   "metadata": {},
   "outputs": [
    {
     "name": "stdout",
     "output_type": "stream",
     "text": [
      "zhao\n",
      "qian\n",
      "sun\n"
     ]
    }
   ],
   "source": [
    "plays=['zhao','qian','sun','li']\n",
    "for play in plays[:3]:\n",
    "    print(play)"
   ]
  },
  {
   "cell_type": "markdown",
   "metadata": {},
   "source": [
    "## 复制列表\n",
    "    - 可创建一个包含整个列表的切片，方法是同时省略起始索引和终止索引"
   ]
  },
  {
   "cell_type": "code",
   "execution_count": 13,
   "metadata": {},
   "outputs": [
    {
     "name": "stdout",
     "output_type": "stream",
     "text": [
      "['rice', 'pizza', 'mantou', 'ice cream', 'baozi']\n",
      "['rice', 'pizza', 'mantou', 'ice cream', 'chicken']\n"
     ]
    }
   ],
   "source": [
    "my_foods=['rice','pizza','mantou','ice cream']\n",
    "my_friend_foods=my_foods[:]\n",
    "my_foods.append('baozi')\n",
    "my_friend_foods.append('chicken')\n",
    "print(my_foods)\n",
    "print(my_friend_foods)\n",
    "# 不能这样 my_friend_foods=my_foods，这里是将my_foods赋给my_friend_foods，而不是将my_foods的副本存储到my_friend_f\n",
    "# oods，因此这两个变量都指向同一个列表，对一个列表进行修改，另一个也随之改变"
   ]
  },
  {
   "cell_type": "markdown",
   "metadata": {},
   "source": [
    "## 元祖\n",
    "### 定义元祖\n",
    "    - 元祖看起来犹如列表，但使用圆括号而不是方括号来标识，可以使用索引来访问其元素\n",
    "    - 试图修改元祖的操作是被禁止的\n",
    "### 遍历元祖中的所有值\n",
    "    - for循环\n",
    "### 修改元祖变量\n",
    "    - 虽然不能修改元祖的元素，但可以给存储元祖的变量赋值"
   ]
  },
  {
   "cell_type": "code",
   "execution_count": 17,
   "metadata": {},
   "outputs": [
    {
     "name": "stdout",
     "output_type": "stream",
     "text": [
      "200\n",
      "200\n",
      "100\n",
      "(23, 67)\n"
     ]
    }
   ],
   "source": [
    "dimension=(200,100)\n",
    "print(dimension[0])\n",
    "for dimen in dimension:\n",
    "    print(dimen)\n",
    "dimension=(23,67)\n",
    "print(dimension)"
   ]
  }
 ],
 "metadata": {
  "kernelspec": {
   "display_name": "Python 3",
   "language": "python",
   "name": "python3"
  },
  "language_info": {
   "codemirror_mode": {
    "name": "ipython",
    "version": 3
   },
   "file_extension": ".py",
   "mimetype": "text/x-python",
   "name": "python",
   "nbconvert_exporter": "python",
   "pygments_lexer": "ipython3",
   "version": "3.6.5"
  }
 },
 "nbformat": 4,
 "nbformat_minor": 2
}
