{
 "cells": [
  {
   "cell_type": "code",
   "execution_count": 8,
   "metadata": {},
   "outputs": [
    {
     "name": "stdout",
     "output_type": "stream",
     "text": [
      "1418554496\n",
      "1418554496\n",
      "1418554496\n",
      "1418554496\n",
      "1\n",
      "1418554432\n",
      "1418554464\n",
      "1418554432\n",
      "3\n"
     ]
    }
   ],
   "source": [
    "l = (1, 3, 3, 3, 2, 1)\n",
    "print(id(max(l)))\n",
    "print(id(l[1]))\n",
    "print(id(l[2]))\n",
    "print(id(l[3]))\n",
    "print(min(l))\n",
    "print(id(l[0]))\n",
    "print(id(l[4]))\n",
    "print(id(l[5]))\n",
    "print(l.count(3))"
   ]
  }
 ],
 "metadata": {
  "kernelspec": {
   "display_name": "Python 3",
   "language": "python",
   "name": "python3"
  },
  "language_info": {
   "codemirror_mode": {
    "name": "ipython",
    "version": 3
   },
   "file_extension": ".py",
   "mimetype": "text/x-python",
   "name": "python",
   "nbconvert_exporter": "python",
   "pygments_lexer": "ipython3",
   "version": "3.6.5"
  }
 },
 "nbformat": 4,
 "nbformat_minor": 2
}
