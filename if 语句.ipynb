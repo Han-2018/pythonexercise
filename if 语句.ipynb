{
 "cells": [
  {
   "cell_type": "markdown",
   "metadata": {},
   "source": [
    "## 条件测试\n",
    "    - 每条if语句的核心都是一个值为True或False的表达式，这种表达式成为条件测试\n",
    "### 检查多个条件\n",
    "    - and or\n",
    "### 检查特定值是否包含在列表中\n",
    "    - in \n",
    "    - not in"
   ]
  },
  {
   "cell_type": "code",
   "execution_count": 4,
   "metadata": {},
   "outputs": [
    {
     "data": {
      "text/plain": [
       "True"
      ]
     },
     "execution_count": 4,
     "metadata": {},
     "output_type": "execute_result"
    }
   ],
   "source": [
    "age_0=12\n",
    "age_1=18\n",
    "(age_0>9) and (age_1 <14)\n",
    "(age_0 >10) or (age_1 <14)"
   ]
  },
  {
   "cell_type": "markdown",
   "metadata": {},
   "source": [
    "## if语句\n",
    "    - if语句中，缩进的作用于for循环中相同"
   ]
  },
  {
   "cell_type": "code",
   "execution_count": 9,
   "metadata": {},
   "outputs": [
    {
     "name": "stdout",
     "output_type": "stream",
     "text": [
      "you are not old enough\n"
     ]
    }
   ],
   "source": [
    "age=16\n",
    "if age>=18:\n",
    "    print('you are old enough to wote')\n",
    "else:\n",
    "    print('you are not old enough')"
   ]
  },
  {
   "cell_type": "markdown",
   "metadata": {},
   "source": [
    "### if-elif-else结构\n",
    "    - 检查超过两个的情形"
   ]
  },
  {
   "cell_type": "code",
   "execution_count": 14,
   "metadata": {},
   "outputs": [
    {
     "name": "stdout",
     "output_type": "stream",
     "text": [
      "half cost\n"
     ]
    }
   ],
   "source": [
    "age=12\n",
    "if age<4:\n",
    "    print('you are free')\n",
    "elif age<=12:\n",
    "    print('half cost')\n",
    "else :\n",
    "    print('full cost')"
   ]
  },
  {
   "cell_type": "code",
   "execution_count": 20,
   "metadata": {},
   "outputs": [
    {
     "name": "stdout",
     "output_type": "stream",
     "text": [
      "you cost is 5\n"
     ]
    }
   ],
   "source": [
    "age=67\n",
    "\n",
    "if age < 4:\n",
    "    price=0\n",
    "elif age < 12:\n",
    "    price=5\n",
    "elif age > 65:\n",
    "    price=5\n",
    "else:\n",
    "    price=10\n",
    "print('you cost is '+str(price))"
   ]
  },
  {
   "cell_type": "markdown",
   "metadata": {},
   "source": [
    "### 省略else代码块"
   ]
  },
  {
   "cell_type": "code",
   "execution_count": 22,
   "metadata": {},
   "outputs": [
    {
     "name": "stdout",
     "output_type": "stream",
     "text": [
      "You Cost Is 5\n"
     ]
    }
   ],
   "source": [
    "age=12\n",
    "if age < 4:\n",
    "    price=0\n",
    "elif age < 18:\n",
    "    price=5\n",
    "elif age < 65:\n",
    "    price=10\n",
    "elif age >= 65:\n",
    "    price=5\n",
    "print('you cost is '.title()+str(price))"
   ]
  },
  {
   "cell_type": "markdown",
   "metadata": {},
   "source": [
    "### 测试多个条件\n",
    "    - if-elif-else仅适用于只有一个条件满足的情况：遇到通过了的测试后，python就跳过余下的测试\n",
    "    - 使用一系列不包含elif和else代码块的简单if语句\n",
    "    - 总之如果只想执行一个代码块，就是用if-elif-else结构；如果运行多个代码块，就使用一系列独立的if语句"
   ]
  },
  {
   "cell_type": "code",
   "execution_count": 24,
   "metadata": {},
   "outputs": [
    {
     "name": "stdout",
     "output_type": "stream",
     "text": [
      "adding mushroom\n",
      "adding extra cheese\n"
     ]
    }
   ],
   "source": [
    "requested_toppings=['mushrooms','extra cheese']\n",
    "if 'mushrooms' in requested_toppings:\n",
    "    print('adding mushroom')\n",
    "if 'pepperoni' in requested_toppings:\n",
    "    print('adding pepperoni')\n",
    "if 'extra cheese' in requested_toppings:\n",
    "    print('adding extra cheese')"
   ]
  },
  {
   "cell_type": "markdown",
   "metadata": {},
   "source": [
    "## 使用if语句处理列表\n",
    "### 确定列表不是空的"
   ]
  },
  {
   "cell_type": "code",
   "execution_count": 26,
   "metadata": {},
   "outputs": [
    {
     "name": "stdout",
     "output_type": "stream",
     "text": [
      "sorry\n"
     ]
    }
   ],
   "source": [
    "requests=[]\n",
    "if requests:\n",
    "    for request in requests:\n",
    "        print('adding '+request)\n",
    "else:\n",
    "    print('sorry')"
   ]
  },
  {
   "cell_type": "markdown",
   "metadata": {},
   "source": [
    "### 使用多个列表"
   ]
  },
  {
   "cell_type": "code",
   "execution_count": 27,
   "metadata": {},
   "outputs": [
    {
     "name": "stdout",
     "output_type": "stream",
     "text": [
      "adding mushrooms\n",
      "sorry we dont have french fries\n",
      "adding extra cheese\n"
     ]
    }
   ],
   "source": [
    "available_toppings=['mushrooms','olives','green peppers','extra cheese']\n",
    "requested_toppings=['mushrooms','french fries','extra cheese']\n",
    "for requested_topping in requested_toppings:\n",
    "    if requested_topping in available_toppings:\n",
    "        print('adding '+requested_topping)\n",
    "    else:\n",
    "        print('sorry we dont have '+requested_topping)"
   ]
  }
 ],
 "metadata": {
  "kernelspec": {
   "display_name": "Python 3",
   "language": "python",
   "name": "python3"
  },
  "language_info": {
   "codemirror_mode": {
    "name": "ipython",
    "version": 3
   },
   "file_extension": ".py",
   "mimetype": "text/x-python",
   "name": "python",
   "nbconvert_exporter": "python",
   "pygments_lexer": "ipython3",
   "version": "3.6.5"
  }
 },
 "nbformat": 4,
 "nbformat_minor": 2
}
